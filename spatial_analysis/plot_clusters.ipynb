{
 "cells": [
  {
   "cell_type": "code",
   "execution_count": 1,
   "id": "4f3bad55-964d-4280-ad15-b7f8443a4fd6",
   "metadata": {},
   "outputs": [
    {
     "name": "stderr",
     "output_type": "stream",
     "text": [
      "Setting default log level to \"WARN\".\n",
      "To adjust logging level use sc.setLogLevel(newLevel). For SparkR, use setLogLevel(newLevel).\n",
      "25/05/09 00:51:10 WARN NativeCodeLoader: Unable to load native-hadoop library for your platform... using builtin-java classes where applicable\n"
     ]
    }
   ],
   "source": [
    "# Cell 1: Imports & Spark setup\n",
    "from pyspark.sql import SparkSession\n",
    "import pandas as pd\n",
    "import folium\n",
    "from folium.plugins import MarkerCluster\n",
    "from pyspark.sql.functions import col\n",
    "import matplotlib.pyplot as plt\n",
    "\n",
    "spark = SparkSession.builder \\\n",
    "    .appName(\"PlotCrimeHotspots\") \\\n",
    "    .getOrCreate()\n"
   ]
  },
  {
   "cell_type": "code",
   "execution_count": 2,
   "id": "194a386b-3645-4f0f-a141-a85acb0af689",
   "metadata": {},
   "outputs": [],
   "source": [
    "# Cell 2: Read clustered data and cast coords\n",
    "df = spark.read.parquet(\"hdfs://localhost:9000/user/yashwanthreddy/crime/clusters\")\n",
    "df = (df\n",
    "      .withColumn(\"latitude\",  col(\"latitude\").cast(\"double\"))\n",
    "      .withColumn(\"longitude\", col(\"longitude\").cast(\"double\")))\n",
    "# Drop any nulls just in case\n",
    "df = df.na.drop(subset=[\"latitude\",\"longitude\",\"prediction\"])\n"
   ]
  },
  {
   "cell_type": "code",
   "execution_count": 3,
   "id": "98eaea21-7905-461f-a83c-427eabb3544f",
   "metadata": {},
   "outputs": [],
   "source": [
    "# Cell 3: Pull a sample to pandas (for performance)\n",
    "pdf = df.select(\"latitude\",\"longitude\",\"prediction\") \\\n",
    "        .sample(0.1, seed=42) \\\n",
    "        .toPandas()\n"
   ]
  },
  {
   "cell_type": "code",
   "execution_count": 4,
   "id": "021261b1-5415-4619-a042-45d412163ddc",
   "metadata": {},
   "outputs": [],
   "source": [
    "# Cell 4: Compute centroids for each cluster\n",
    "centroids = pdf.groupby(\"prediction\")[[\"latitude\",\"longitude\"]].mean().reset_index()\n"
   ]
  },
  {
   "cell_type": "code",
   "execution_count": 5,
   "id": "08611a75-98bd-4779-9643-66f3532f93c4",
   "metadata": {},
   "outputs": [],
   "source": [
    "# Cell 5: Create a Folium map\n",
    "# Center on overall mean\n",
    "m = folium.Map(location=[pdf.latitude.mean(), pdf.longitude.mean()], zoom_start=12)\n",
    "\n",
    "# Add clustered markers\n",
    "marker_cluster = MarkerCluster().add_to(m)\n",
    "for _, row in pdf.iterrows():\n",
    "    folium.CircleMarker(\n",
    "        location=(row.latitude, row.longitude),\n",
    "        radius=3,\n",
    "        color=plt.cm.tab10(row.prediction % 10),\n",
    "        fill=True, fill_opacity=0.6\n",
    "    ).add_to(marker_cluster)\n",
    "\n",
    "# Add centroids\n",
    "for _, row in centroids.iterrows():\n",
    "    folium.Marker(\n",
    "        location=(row.latitude, row.longitude),\n",
    "        icon=folium.Icon(color=\"red\", icon=\"info-sign\"),\n",
    "        popup=f\"Cluster {int(row.prediction)}\"\n",
    "    ).add_to(m)\n",
    "\n",
    "# Save to HTML\n",
    "m.save(\"cluster_map.html\")\n"
   ]
  },
  {
   "cell_type": "code",
   "execution_count": null,
   "id": "d0afca49-97a2-41d4-9ebd-bfbdc4e15ccd",
   "metadata": {},
   "outputs": [],
   "source": [
    "m"
   ]
  }
 ],
 "metadata": {
  "kernelspec": {
   "display_name": "Python 3 (ipykernel)",
   "language": "python",
   "name": "python3"
  },
  "language_info": {
   "codemirror_mode": {
    "name": "ipython",
    "version": 3
   },
   "file_extension": ".py",
   "mimetype": "text/x-python",
   "name": "python",
   "nbconvert_exporter": "python",
   "pygments_lexer": "ipython3",
   "version": "3.12.2"
  }
 },
 "nbformat": 4,
 "nbformat_minor": 5
}
